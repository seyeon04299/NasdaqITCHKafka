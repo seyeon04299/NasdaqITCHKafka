{
 "cells": [
  {
   "cell_type": "code",
   "execution_count": null,
   "metadata": {},
   "outputs": [],
   "source": [
    "import numpy as np\n",
    "import os\n"
   ]
  },
  {
   "cell_type": "code",
   "execution_count": null,
   "metadata": {},
   "outputs": [],
   "source": [
    "historical_itch_data_dir = \"/home/namhooncho/server/npy_itch_parsed_data/S112522-v50/input_SPY_OHLCVT_ATR_premkt7200.npy\"\n",
    "live_itch_data_dir = \"/home/namhooncho/ITCHNasdaqKafka/python_parser/sample_messages_SPY_20221125_trade.npy\"\n",
    "\n",
    "hist_itch_data = np.load(historical_itch_data_dir)\n",
    "live_itch_data = np.load(live_itch_data_dir)\n"
   ]
  },
  {
   "cell_type": "code",
   "execution_count": null,
   "metadata": {},
   "outputs": [],
   "source": [
    "time_start = -3600\n",
    "time_end = -1800\n",
    "\n",
    "hist_itch_data = hist_itch_data[time_start:time_end]\n",
    "\n",
    "hist_itch_ev = np.sum(hist_itch_data[:, 4:6], axis=1)\n",
    "hist_itch_time = hist_itch_data[:, -1]\n",
    "\n",
    "live_itch_ev = live_itch_data[:, 1]\n",
    "live_itch_time = live_itch_data[:, 0]"
   ]
  },
  {
   "cell_type": "code",
   "execution_count": null,
   "metadata": {},
   "outputs": [],
   "source": [
    "print(f'hist_itch_ev.shape: {hist_itch_ev.shape}')\n",
    "print(f'live_itch_ev.shape: {live_itch_ev.shape}')\n",
    "\n",
    "print(f'hist_itch_ev: {hist_itch_ev[15:25]}')\n",
    "print(f'live_itch_ev: {live_itch_ev[15:25]}')"
   ]
  },
  {
   "cell_type": "code",
   "execution_count": null,
   "metadata": {},
   "outputs": [],
   "source": [
    "assert (hist_itch_ev.shape == live_itch_ev.shape)\n",
    "for hist_ev, live_ev in zip(hist_itch_ev, live_itch_ev):\n",
    "    print(f'hist_ev: {hist_ev}, live_ev: {live_ev}')\n",
    "    assert hist_ev == live_ev"
   ]
  },
  {
   "cell_type": "code",
   "execution_count": null,
   "metadata": {},
   "outputs": [],
   "source": []
  }
 ],
 "metadata": {
  "kernelspec": {
   "display_name": "Python 3",
   "language": "python",
   "name": "python3"
  },
  "language_info": {
   "codemirror_mode": {
    "name": "ipython",
    "version": 3
   },
   "file_extension": ".py",
   "mimetype": "text/x-python",
   "name": "python",
   "nbconvert_exporter": "python",
   "pygments_lexer": "ipython3",
   "version": "3.8.10"
  },
  "orig_nbformat": 4,
  "vscode": {
   "interpreter": {
    "hash": "916dbcbb3f70747c44a77c7bcd40155683ae19c65e1c03b4aa3499c5328201f1"
   }
  }
 },
 "nbformat": 4,
 "nbformat_minor": 2
}
